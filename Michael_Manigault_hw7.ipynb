{
 "cells": [
  {
   "cell_type": "markdown",
   "metadata": {},
   "source": [
    "# Data765 | Lecture 7&8 | Functions \n",
    "## Assignment 7.2 (points: 2)\n",
    "### Due: April 7, Wednesday by midnight"
   ]
  },
  {
   "cell_type": "markdown",
   "metadata": {},
   "source": [
    "<div class=\"alert alert-block alert-success\">\n",
    "    \n",
    "<br>\n",
    "<b>Q1 (1 pt)</b>\n",
    "<br>\n",
    "    \n",
    "Recall that we wrote a control flow to count the vowels and consonants in the string <code>course</code>. What if we want to be able to check the numbers of vowels and consonants in any other strings? Please write a function <code>count()</code>. It takes a positional argument <code>s</code> which is a string of any length. It also takes a keyword argument <code>con</code> which defaults to <code>False</code>. \n",
    "<br>    \n",
    "The function then computes and returns the number of vowels in the string <code>s</code>. If the kwarg <code>con</code> is set to <code>True</code>, then the function returns both the number of vowels and the number of consonants in the string. \n",
    "<br>\n",
    "    <br>\n",
    "(You may refer to the notes and solutions to Assignment 5 to work on this problem.)<br>\n",
    "    \n",
    "</div>"
   ]
  },
  {
   "cell_type": "code",
   "execution_count": 46,
   "metadata": {},
   "outputs": [],
   "source": [
    "## Q1 (1 pt)\n",
    "\n",
    "## your code below (you can add more cells if needed)\n",
    "\n",
    "def count(s, con = False, **kwargs):\n",
    "\n",
    "    vows = ['a', 'e', 'i', 'o', 'u', 'A', 'E', 'I', 'O', 'U']\n",
    "\n",
    "    n_vow = 0\n",
    "\n",
    "    for s in vows:\n",
    "        if s in vows:\n",
    "            n_vow = n_vow + 1\n",
    "\n",
    "\n",
    "    return n_vow\n",
    "\n",
    "\n",
    "\n",
    "\n",
    "\n",
    "\n",
    "\n",
    "\n",
    "\n"
   ]
  },
  {
   "cell_type": "code",
   "execution_count": 47,
   "metadata": {},
   "outputs": [
    {
     "name": "stdout",
     "output_type": "stream",
     "text": [
      "10\n",
      "10\n",
      "10\n"
     ]
    }
   ],
   "source": [
    "## run this cell when you finish Q1\n",
    "\n",
    "print(count('Welcome to DATA 765 Python Fundamentals for Data Science', con=True))\n",
    "print(count('9hfdaWET62EDv ca$5nd%aVm!', con=True))\n",
    "print(count(''))\n",
    "\n"
   ]
  },
  {
   "cell_type": "markdown",
   "metadata": {},
   "source": [
    "<div class=\"alert alert-block alert-success\">\n",
    "    \n",
    "<b>Q2 (1 pt total)</b> \n",
    "  \n",
    "<br>\n",
    "Please write a function <code>formula()</code>. It takes two positional arguments: list <code>x</code> ($[x_1, x_2, ..., x_n]$) and list <code>y</code> ($[y_1, y_2, ..., y_n]$), both of the same length. It also includes a keyword argument <code>a</code> which is a constant (a number, int or float), default to <code>3</code>. The function then computes <br>\n",
    "\n",
    "$$x_i^2 + y_i + 2a$$ <br>\n",
    "\n",
    "for each $x_i$,  $y_i$ in the two lists, then it returns a list of the values ($[x_1^2+y_1+2a,  x_2^2+y_2+2a,  ...,  x_n^2+y_n+2a]$) <br>\n",
    "    \n",
    "<br>\n",
    "<br>\n",
    "Hint: Both lists are of the same length, so you could use the same index to retrieve the elements at the same position in the two lists. That is: x[0] and y[0] are the first element in x and y, respectively. Recall: how to loop over lists using indices? \n",
    "<br>\n",
    "    \n",
    "</div>"
   ]
  },
  {
   "cell_type": "code",
   "execution_count": 56,
   "metadata": {},
   "outputs": [],
   "source": [
    "## Q2:\n",
    "\n",
    "## Your code below: (you can add more cells if needed)\n",
    "\n",
    "\n",
    "def formula(x, y, a = 1, **kwargs):\n",
    "\n",
    "\n",
    "    return[x**2+y+2*a for x,y in zip(x,y)]\n",
    "\n",
    "\n",
    "\n",
    "\n",
    "\n",
    "\n",
    "\n",
    "\n",
    "\n",
    "\n",
    "\n",
    "\n",
    "\n",
    "\n",
    "\n",
    "\n",
    "\n",
    "\n"
   ]
  },
  {
   "cell_type": "code",
   "execution_count": 57,
   "metadata": {},
   "outputs": [
    {
     "name": "stdout",
     "output_type": "stream",
     "text": [
      "[3, 8, 13, 6]\n",
      "[161, 2044, 32]\n",
      "[]\n"
     ]
    }
   ],
   "source": [
    "## run this cell when you finish Q2\n",
    "\n",
    "print(formula([1, 2, 2, 1], [0, 2, 7, 3]))\n",
    "print(formula([12, 45, -3], [1, 3, 7], a=8))\n",
    "print(formula([], [], a=4))"
   ]
  },
  {
   "cell_type": "code",
   "execution_count": null,
   "metadata": {},
   "outputs": [],
   "source": []
  }
 ],
 "metadata": {
  "kernelspec": {
   "display_name": "Python 3",
   "language": "python",
   "name": "python3"
  },
  "language_info": {
   "codemirror_mode": {
    "name": "ipython",
    "version": 3
   },
   "file_extension": ".py",
   "mimetype": "text/x-python",
   "name": "python",
   "nbconvert_exporter": "python",
   "pygments_lexer": "ipython3",
   "version": "3.8.5"
  }
 },
 "nbformat": 4,
 "nbformat_minor": 4
}
