{
 "cells": [
  {
   "cell_type": "markdown",
   "metadata": {},
   "source": [
    "# Data765 | Lecture 3 | Data Structure (II)\n",
    "## Assignment 3.2 (points: 3)\n",
    "### Due: Feb 24 Wednesday by midnight"
   ]
  },
  {
   "cell_type": "markdown",
   "metadata": {},
   "source": [
    "<div class=\"alert alert-block alert-success\">\n",
    "    \n",
    "<b>Q1 (0.3 pts per task.)</b> \n",
    "    \n",
    "   <br>\n",
    "    \n",
    "Suppose we have a string <code>s = \"DATA765 LET'S LEARN PYTHON TOGETHER!\"</code> For each of the commands below, write a Python program to complete the task **in  the given order**. After you finish the tasks, run the pre-filled cell below your code. <br>\n",
    "   \n",
    "   <p style=\"margin-left: 30px\"> 1. convert the string <code>s</code> to all lower case. <br>\n",
    "   2. count how many times the letter <code>e</code> appears in the string, and save it to a variable <code>count</code>. <br>\n",
    "   3. convert the string into a list of individual words. Save it to <code>l1</code>. <br>\n",
    "   4. use slice notation to retrieve \"7\" from <code>l1</code>. Save it to a variable <code>num</code>.<br>\n",
    "   5. reverse the order of \"python\" in <code>l1</code>, and save it to <code>reverse</code>. <br>\n",
    "   6. convert the first element in <code>l1</code> into a list of individual letters. Save it to <code>l2</code>. <br>\n",
    "   7. remove the first four elements in <code>l2</code>, then append a new element <code>'SOC'</code> to the end of the list. Save it to <code>l2_alias</code>. Do not change the original value of <code>l2</code>. <br>\n",
    "   8. based on <code>l1</code>, make a new list <code>l3</code> by inserting \"Spring 2021\" behind \"DATA765\". Do not change the original value of <code>l1</code>. <br>\n",
    "   9. check the length of <code>l3</code>, and save the result to <code>length</code>. <br>\n",
    "   10. convert <code>l1</code> to a single string with an exclamation \"!\" separating different words, and save the result to <code>slogan</code>.<br>\n",
    "        </p>\n",
    "<br>    \n",
    "</div>"
   ]
  },
  {
   "cell_type": "code",
   "execution_count": 58,
   "metadata": {},
   "outputs": [
    {
     "ename": "TypeError",
     "evalue": "object of type 'NoneType' has no len()",
     "output_type": "error",
     "traceback": [
      "\u001b[1;31m---------------------------------------------------------------------------\u001b[0m",
      "\u001b[1;31mTypeError\u001b[0m                                 Traceback (most recent call last)",
      "\u001b[1;32m<ipython-input-58-384997c1d366>\u001b[0m in \u001b[0;36m<module>\u001b[1;34m\u001b[0m\n\u001b[0;32m     13\u001b[0m \u001b[0ml2\u001b[0m\u001b[1;33m.\u001b[0m\u001b[0mappend\u001b[0m\u001b[1;33m(\u001b[0m\u001b[1;34m'SOC'\u001b[0m\u001b[1;33m)\u001b[0m\u001b[1;33m\u001b[0m\u001b[1;33m\u001b[0m\u001b[0m\n\u001b[0;32m     14\u001b[0m \u001b[0ml3\u001b[0m \u001b[1;33m=\u001b[0m \u001b[0ml1\u001b[0m\u001b[1;33m.\u001b[0m\u001b[0minsert\u001b[0m\u001b[1;33m(\u001b[0m\u001b[1;36m1\u001b[0m\u001b[1;33m,\u001b[0m \u001b[1;34m'Spring 2021'\u001b[0m\u001b[1;33m)\u001b[0m\u001b[1;33m\u001b[0m\u001b[1;33m\u001b[0m\u001b[0m\n\u001b[1;32m---> 15\u001b[1;33m \u001b[0mlength\u001b[0m \u001b[1;33m=\u001b[0m \u001b[0mlen\u001b[0m\u001b[1;33m(\u001b[0m\u001b[0ml3\u001b[0m\u001b[1;33m)\u001b[0m\u001b[1;33m\u001b[0m\u001b[1;33m\u001b[0m\u001b[0m\n\u001b[0m\u001b[0;32m     16\u001b[0m \u001b[0mexclamation\u001b[0m \u001b[1;33m=\u001b[0m \u001b[1;34m'!'\u001b[0m\u001b[1;33m\u001b[0m\u001b[1;33m\u001b[0m\u001b[0m\n\u001b[0;32m     17\u001b[0m \u001b[0mslogan\u001b[0m \u001b[1;33m=\u001b[0m \u001b[0mexclamation\u001b[0m\u001b[1;33m.\u001b[0m\u001b[0mjoin\u001b[0m\u001b[1;33m(\u001b[0m\u001b[0ml1\u001b[0m\u001b[1;33m)\u001b[0m\u001b[1;33m\u001b[0m\u001b[1;33m\u001b[0m\u001b[0m\n",
      "\u001b[1;31mTypeError\u001b[0m: object of type 'NoneType' has no len()"
     ]
    }
   ],
   "source": [
    "## Q1:\n",
    "s = \"DATA765 LET'S LEARN PYTHON TOGETHER!\"\n",
    "\n",
    "## your code below:\n",
    "\n",
    "s.lower()\n",
    "count = s.count('e') \n",
    "l1 = s.split() \n",
    "num = s[7]\n",
    "reverse = s[::-1] \n",
    "l2 = list(l1)\n",
    "l2_alias = l2.remove('DATA765')\n",
    "l2.append('SOC')\n",
    "l3 = l1.insert(1, 'Spring 2021')\n",
    "length = len(l3)\n",
    "exclamation = '!'\n",
    "slogan = exclamation.join(l1)"
   ]
  },
  {
   "cell_type": "code",
   "execution_count": 57,
   "metadata": {},
   "outputs": [
    {
     "name": "stdout",
     "output_type": "stream",
     "text": [
      "1. The lowercased string is:  DATA765 LET'S LEARN PYTHON TOGETHER!\n",
      "2. The term 'e' appears 0 times in the string.\n",
      "3. The list of individual words is:  ['DATA765', 'Spring 2021', \"LET'S\", 'LEARN', 'PYTHON', 'TOGETHER!']\n",
      "4. Retrieved   from the list l1.\n",
      "5. The word 'python' in reverse order is:  !REHTEGOT NOHTYP NRAEL S'TEL 567ATAD\n",
      "6. The list of individual letters is:  [\"LET'S\", 'LEARN', 'PYTHON', 'TOGETHER!', 'SOC']\n",
      "7. Based on l2, we have created l2_alias:  None\n",
      "7. But the original list l2 is not modification:  [\"LET'S\", 'LEARN', 'PYTHON', 'TOGETHER!', 'SOC']\n",
      "8. The new list l3 is:  None\n",
      "8. Likewise, the original list l1 remains the same:  ['DATA765', 'Spring 2021', \"LET'S\", 'LEARN', 'PYTHON', 'TOGETHER!']\n"
     ]
    },
    {
     "ename": "NameError",
     "evalue": "name 'length' is not defined",
     "output_type": "error",
     "traceback": [
      "\u001b[1;31m---------------------------------------------------------------------------\u001b[0m",
      "\u001b[1;31mNameError\u001b[0m                                 Traceback (most recent call last)",
      "\u001b[1;32m<ipython-input-57-1b951556b2c8>\u001b[0m in \u001b[0;36m<module>\u001b[1;34m\u001b[0m\n\u001b[0;32m     11\u001b[0m \u001b[0mprint\u001b[0m\u001b[1;33m(\u001b[0m\u001b[1;34m'8. The new list l3 is: '\u001b[0m\u001b[1;33m,\u001b[0m \u001b[0ml3\u001b[0m\u001b[1;33m)\u001b[0m\u001b[1;33m\u001b[0m\u001b[1;33m\u001b[0m\u001b[0m\n\u001b[0;32m     12\u001b[0m \u001b[0mprint\u001b[0m\u001b[1;33m(\u001b[0m\u001b[1;34m'8. Likewise, the original list l1 remains the same: '\u001b[0m\u001b[1;33m,\u001b[0m \u001b[0ml1\u001b[0m\u001b[1;33m)\u001b[0m\u001b[1;33m\u001b[0m\u001b[1;33m\u001b[0m\u001b[0m\n\u001b[1;32m---> 13\u001b[1;33m \u001b[0mprint\u001b[0m\u001b[1;33m(\u001b[0m\u001b[1;34m'9. The length of the new list l3 is: '\u001b[0m\u001b[1;33m,\u001b[0m \u001b[0mlength\u001b[0m\u001b[1;33m)\u001b[0m\u001b[1;33m\u001b[0m\u001b[1;33m\u001b[0m\u001b[0m\n\u001b[0m\u001b[0;32m     14\u001b[0m \u001b[0mprint\u001b[0m\u001b[1;33m(\u001b[0m\u001b[1;34m'10. After adding exclamations, we created a slogan string: '\u001b[0m\u001b[1;33m,\u001b[0m \u001b[0mslogan\u001b[0m\u001b[1;33m)\u001b[0m\u001b[1;33m\u001b[0m\u001b[1;33m\u001b[0m\u001b[0m\n",
      "\u001b[1;31mNameError\u001b[0m: name 'length' is not defined"
     ]
    }
   ],
   "source": [
    "## run this cell when you finish Q1\n",
    "\n",
    "print('1. The lowercased string is: ', s)\n",
    "print(\"2. The term 'e' appears {} times in the string.\".format(count))\n",
    "print('3. The list of individual words is: ', l1)\n",
    "print('4. Retrieved {} from the list l1.'.format(num))\n",
    "print(\"5. The word 'python' in reverse order is: \", reverse)\n",
    "print('6. The list of individual letters is: ', l2)\n",
    "print('7. Based on l2, we have created l2_alias: ', l2_alias)\n",
    "print('7. But the original list l2 is not modification: ', l2)\n",
    "print('8. The new list l3 is: ', l3)\n",
    "print('8. Likewise, the original list l1 remains the same: ', l1)\n",
    "print('9. The length of the new list l3 is: ', length)\n",
    "print('10. After adding exclamations, we created a slogan string: ', slogan)"
   ]
  },
  {
   "cell_type": "code",
   "execution_count": null,
   "metadata": {},
   "outputs": [],
   "source": []
  }
 ],
 "metadata": {
  "kernelspec": {
   "display_name": "Python 3",
   "language": "python",
   "name": "python3"
  },
  "language_info": {
   "codemirror_mode": {
    "name": "ipython",
    "version": 3
   },
   "file_extension": ".py",
   "mimetype": "text/x-python",
   "name": "python",
   "nbconvert_exporter": "python",
   "pygments_lexer": "ipython3",
   "version": "3.8.5"
  }
 },
 "nbformat": 4,
 "nbformat_minor": 4
}
