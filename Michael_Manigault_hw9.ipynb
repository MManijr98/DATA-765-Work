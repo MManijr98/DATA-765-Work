{
 "cells": [
  {
   "cell_type": "markdown",
   "metadata": {},
   "source": [
    "<h1 align = left> Data 765: Python Fundamentals for Data Science</h1>\n",
    "<h2 align = left> Assignment 9.2 | NumPy </h2>\n",
    "<h3 align = left> Due: April 21 Wednesday, 23:59pm </h3>"
   ]
  },
  {
   "cell_type": "markdown",
   "metadata": {},
   "source": [
    "<div class = \"alert alert-block alert-success\">\n",
    "\n",
    "<b> Demystifying <code>lucky</code> </b>\n",
    "<br>\n",
    "<br>\n",
    "Below is the source code of the program <code>lucky</code> that I've used to make \"cold calls\" in class. Please read the code and test the function with different parameters to deepen your understanding of the code.<br>\n",
    "<br>\n",
    "Then, please do 1,000 simulations of name-drawing using <code>lucky</code>. Please set the random seed to be <code>765</code>, and just draw one name at a time. How many times will your name be drawn?<br>\n",
    "<br>\n",
    "\n",
    "</div>"
   ]
  },
  {
   "cell_type": "code",
   "execution_count": 35,
   "metadata": {},
   "outputs": [],
   "source": [
    "import numpy as np"
   ]
  },
  {
   "cell_type": "code",
   "execution_count": 36,
   "metadata": {},
   "outputs": [],
   "source": [
    "def lucky(n, ignore=None):\n",
    "    '''\n",
    "    Generates a random sample of `n` number of students' names from the class roster of DATA 765 (Spring 2021).\n",
    "    \n",
    "    INPUT:\n",
    "    n: single number, int. Number of names to return.\n",
    "    ignore: optional, a 1-D list of strings. Defaults to None. The specific name(s) to ignore and skip during the lucky draw. \n",
    "            *Note: the name(s) specified here have to be in a list and exactly match those in the list `names`.  \n",
    "    \n",
    "    OUTPUT:\n",
    "    draw: the randomly selected student name(s).\n",
    "    '''\n",
    "\n",
    "    names = ['Melissa', \n",
    "             'Matt T',\n",
    "             'Matt M',\n",
    "             'Britney',\n",
    "             'Jenny',\n",
    "             'Meijia',\n",
    "             'Wenting',\n",
    "             'Reshmi',\n",
    "             'Kashima',\n",
    "             'Hilel',\n",
    "             'Sohyun',\n",
    "             'Jaclyn',\n",
    "             'Arwa',\n",
    "             'Aqueelah',\n",
    "             'Michael',\n",
    "             'Maryna',\n",
    "             'Sean'\n",
    "            ]\n",
    "      \n",
    "    if ignore:\n",
    "        \n",
    "        if not isinstance(ignore, (list, tuple)):\n",
    "            return 'The name(s) to ignore need to be converted to a 1-d list.'\n",
    "        \n",
    "        if set(ignore).intersection(set(names)):\n",
    "            names = list(set(names) - set(ignore))         \n",
    "        else:\n",
    "            return 'The name(s) to ignore does not exist.' \n",
    "        \n",
    "    draw = np.random.choice(names, size=n, replace=False)              # uniform distribution, prob = 1/17\n",
    "    \n",
    "    return draw"
   ]
  },
  {
   "cell_type": "code",
   "execution_count": 37,
   "metadata": {},
   "outputs": [
    {
     "ename": "NameError",
     "evalue": "name 'draw' is not defined",
     "output_type": "error",
     "traceback": [
      "\u001b[1;31m---------------------------------------------------------------------------\u001b[0m",
      "\u001b[1;31mNameError\u001b[0m                                 Traceback (most recent call last)",
      "\u001b[1;32m<ipython-input-37-d74bfe50f555>\u001b[0m in \u001b[0;36m<module>\u001b[1;34m\u001b[0m\n\u001b[1;32m----> 1\u001b[1;33m \u001b[0mp\u001b[0m \u001b[1;33m=\u001b[0m \u001b[0mdraw\u001b[0m\u001b[1;33m/\u001b[0m\u001b[1;36m10\u001b[0m\u001b[1;33m\u001b[0m\u001b[1;33m\u001b[0m\u001b[0m\n\u001b[0m\u001b[0;32m      2\u001b[0m \u001b[0mp\u001b[0m\u001b[1;33m\u001b[0m\u001b[1;33m\u001b[0m\u001b[0m\n",
      "\u001b[1;31mNameError\u001b[0m: name 'draw' is not defined"
     ]
    }
   ],
   "source": [
    "p = draw/10\n",
    "p"
   ]
  },
  {
   "cell_type": "code",
   "execution_count": 38,
   "metadata": {},
   "outputs": [
    {
     "ename": "NameError",
     "evalue": "name 'student_names' is not defined",
     "output_type": "error",
     "traceback": [
      "\u001b[1;31m---------------------------------------------------------------------------\u001b[0m",
      "\u001b[1;31mNameError\u001b[0m                                 Traceback (most recent call last)",
      "\u001b[1;32m<ipython-input-38-4223ea87ed08>\u001b[0m in \u001b[0;36m<module>\u001b[1;34m\u001b[0m\n\u001b[0;32m     28\u001b[0m \u001b[1;33m\u001b[0m\u001b[0m\n\u001b[0;32m     29\u001b[0m \u001b[1;32mfor\u001b[0m \u001b[0mi\u001b[0m \u001b[1;32min\u001b[0m \u001b[0mrange\u001b[0m\u001b[1;33m(\u001b[0m\u001b[1;36m1000\u001b[0m\u001b[1;33m)\u001b[0m\u001b[1;33m:\u001b[0m\u001b[1;33m\u001b[0m\u001b[1;33m\u001b[0m\u001b[0m\n\u001b[1;32m---> 30\u001b[1;33m     \u001b[0mdraw\u001b[0m \u001b[1;33m=\u001b[0m \u001b[0mnp\u001b[0m\u001b[1;33m.\u001b[0m\u001b[0mrandom\u001b[0m\u001b[1;33m.\u001b[0m\u001b[0mchoice\u001b[0m\u001b[1;33m(\u001b[0m\u001b[0mstudent_names\u001b[0m\u001b[1;33m,\u001b[0m \u001b[0msize\u001b[0m \u001b[1;33m=\u001b[0m \u001b[0mn\u001b[0m\u001b[1;33m,\u001b[0m \u001b[0mreplace\u001b[0m\u001b[1;33m=\u001b[0m\u001b[1;32mFalse\u001b[0m\u001b[1;33m)\u001b[0m\u001b[1;33m\u001b[0m\u001b[1;33m\u001b[0m\u001b[0m\n\u001b[0m\u001b[0;32m     31\u001b[0m     \u001b[1;32mif\u001b[0m \u001b[0mdraw\u001b[0m\u001b[1;33m[\u001b[0m\u001b[1;36m0\u001b[0m\u001b[1;33m]\u001b[0m \u001b[1;33m==\u001b[0m \u001b[1;36m14\u001b[0m\u001b[1;33m:\u001b[0m\u001b[1;33m\u001b[0m\u001b[1;33m\u001b[0m\u001b[0m\n\u001b[0;32m     32\u001b[0m         \u001b[0mcount\u001b[0m \u001b[1;33m+=\u001b[0m \u001b[1;36m1\u001b[0m\u001b[1;33m\u001b[0m\u001b[1;33m\u001b[0m\u001b[0m\n",
      "\u001b[1;31mNameError\u001b[0m: name 'student_names' is not defined"
     ]
    }
   ],
   "source": [
    "##### your code below\n",
    "#I tried emulating the code from Datacamp's \"Simulating the dice game\" section.\n",
    "\n",
    "\n",
    "def lucky(n, ignore=None):\n",
    "    np.random.seed(765)\n",
    "\n",
    "    student_names = ['Melissa', \n",
    "             'Matt T',\n",
    "             'Matt M',\n",
    "             'Britney',\n",
    "             'Jenny',\n",
    "             'Meijia',\n",
    "             'Wenting',\n",
    "             'Reshmi',\n",
    "             'Kashima',\n",
    "             'Hilel',\n",
    "             'Sohyun',\n",
    "             'Jaclyn',\n",
    "             'Arwa',\n",
    "             'Aqueelah',\n",
    "             'Michael',\n",
    "             'Maryna',\n",
    "             'Sean'\n",
    "            ]\n",
    "count = 0\n",
    "n = 1\n",
    "\n",
    "for i in range(1000):\n",
    "    draw = np.random.choice(student_names, size = n, replace=False)\n",
    "    if draw[0] == 14:\n",
    "        count += 1\n"
   ]
  },
  {
   "cell_type": "code",
   "execution_count": 30,
   "metadata": {},
   "outputs": [
    {
     "ename": "NameError",
     "evalue": "name 'total' is not defined",
     "output_type": "error",
     "traceback": [
      "\u001b[1;31m---------------------------------------------------------------------------\u001b[0m",
      "\u001b[1;31mNameError\u001b[0m                                 Traceback (most recent call last)",
      "\u001b[1;32m<ipython-input-30-aa992185444b>\u001b[0m in \u001b[0;36m<module>\u001b[1;34m\u001b[0m\n\u001b[1;32m----> 1\u001b[1;33m \u001b[0mp\u001b[0m \u001b[1;33m=\u001b[0m \u001b[0mtotal\u001b[0m\u001b[1;33m/\u001b[0m\u001b[1;36m1000\u001b[0m\u001b[1;33m\u001b[0m\u001b[1;33m\u001b[0m\u001b[0m\n\u001b[0m\u001b[0;32m      2\u001b[0m \u001b[0mp\u001b[0m\u001b[1;33m\u001b[0m\u001b[1;33m\u001b[0m\u001b[0m\n",
      "\u001b[1;31mNameError\u001b[0m: name 'total' is not defined"
     ]
    }
   ],
   "source": [
    "p = total/1000\n",
    "p"
   ]
  },
  {
   "cell_type": "code",
   "execution_count": null,
   "metadata": {},
   "outputs": [],
   "source": []
  },
  {
   "cell_type": "code",
   "execution_count": null,
   "metadata": {},
   "outputs": [],
   "source": []
  },
  {
   "cell_type": "code",
   "execution_count": null,
   "metadata": {},
   "outputs": [],
   "source": []
  },
  {
   "cell_type": "code",
   "execution_count": null,
   "metadata": {},
   "outputs": [],
   "source": []
  },
  {
   "cell_type": "code",
   "execution_count": null,
   "metadata": {},
   "outputs": [],
   "source": []
  }
 ],
 "metadata": {
  "kernelspec": {
   "display_name": "Python 3",
   "language": "python",
   "name": "python3"
  },
  "language_info": {
   "codemirror_mode": {
    "name": "ipython",
    "version": 3
   },
   "file_extension": ".py",
   "mimetype": "text/x-python",
   "name": "python",
   "nbconvert_exporter": "python",
   "pygments_lexer": "ipython3",
   "version": "3.8.5"
  }
 },
 "nbformat": 4,
 "nbformat_minor": 4
}
