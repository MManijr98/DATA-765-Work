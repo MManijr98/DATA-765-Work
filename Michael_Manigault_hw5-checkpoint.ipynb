{
 "cells": [
  {
   "cell_type": "markdown",
   "metadata": {},
   "source": [
    "# Data765 | Lecture 5 | Control Flow (II)\n",
    "## Assignment 5 (points: 5)\n",
    "### Due: March 10, Wednesday by midnight"
   ]
  },
  {
   "cell_type": "markdown",
   "metadata": {},
   "source": [
    "<div class=\"alert alert-block alert-success\">\n",
    "    \n",
    "<b>Q1 (1.5 pts total)</b> \n",
    "    \n",
    "<br>\n",
    "Suppose we have a list <code> things = ['apple', 'toy', 34, ('key', 'val'), 7.8, 'cell phone', -65, '78'] </code>. <br> \n",
    "    <br>\n",
    "<b>Q1.1</b> (0.5 pts) Please print out each element in the list. <br>\n",
    "    <br>\n",
    "<b>Q1.2</b> (1 pt) Please print out every other element in the list, starting from the 0th place. <br>\n",
    "    <br>  \n",
    "Hint: for Q1.2, you need to loop over the list using the indices of the elements using the <code>range(len())</code> setup. <br>\n",
    "    \n",
    "</div>"
   ]
  },
  {
   "cell_type": "code",
   "execution_count": 3,
   "metadata": {},
   "outputs": [
    {
     "name": "stdout",
     "output_type": "stream",
     "text": [
      "apple\n",
      "toy\n",
      "34\n",
      "('key', 'val')\n",
      "7.8\n",
      "cell phone\n",
      "-65\n",
      "78\n"
     ]
    }
   ],
   "source": [
    "## Q1.1 (0.5 pts)\n",
    "\n",
    "things = ['apple', 'toy', 34, ('key', 'val'), 7.8, 'cell phone', -65, '78']\n",
    "\n",
    "## your code below (you can add more cells if needed)\n",
    "\n",
    "\n",
    "for i in things:\n",
    "    print(i)\n",
    "\n",
    "\n",
    "\n",
    "\n"
   ]
  },
  {
   "cell_type": "code",
   "execution_count": 14,
   "metadata": {},
   "outputs": [
    {
     "name": "stdout",
     "output_type": "stream",
     "text": [
      "toy\n",
      "('key', 'val')\n",
      "cell phone\n",
      "78\n"
     ]
    }
   ],
   "source": [
    "## Q1.2 (1 pt)\n",
    "\n",
    "things = ['apple', 'toy', 34, ('key', 'val'), 7.8, 'cell phone', -65, '78']\n",
    "\n",
    "## your code below (you can add more cells if needed)\n",
    "\n",
    "\n",
    "\n",
    "for i, j in enumerate(things):\n",
    "    if i % 2:\n",
    "        print(j)\n",
    "\n",
    "\n",
    "\n"
   ]
  },
  {
   "cell_type": "markdown",
   "metadata": {},
   "source": [
    "<div class=\"alert alert-block alert-success\">\n",
    "    \n",
    "<b>Q2 (1.5 pts total)</b> \n",
    "    \n",
    "<br>\n",
    "For all integers no less than -7 and smaller than 113, please sum up the <b>odd integers</b> in this range that are <b>multiples of 3</b>. Save the output to a variable \"ans\". <br>\n",
    "    \n",
    "Hint: use a range function with a for loop. (this is a question adapted from CS Dojo's code demo) <br>\n",
    "    \n",
    "</div>"
   ]
  },
  {
   "cell_type": "code",
   "execution_count": 12,
   "metadata": {},
   "outputs": [],
   "source": [
    "## Q2:\n",
    "\n",
    "## Your code below: (you can add more cells if needed)\n",
    "\n",
    "ans = 0\n",
    "for i in range(-7, 113):\n",
    "    if i % 3:\n",
    "        ans += i\n",
    "\n",
    "\n",
    "\n",
    "\n",
    "\n",
    "\n",
    "\n"
   ]
  },
  {
   "cell_type": "code",
   "execution_count": 13,
   "metadata": {},
   "outputs": [
    {
     "name": "stdout",
     "output_type": "stream",
     "text": [
      "4200\n"
     ]
    }
   ],
   "source": [
    "## run this cell when you finish Q2\n",
    "\n",
    "print(ans)"
   ]
  },
  {
   "cell_type": "markdown",
   "metadata": {},
   "source": [
    "<div class=\"alert alert-block alert-success\">\n",
    "    \n",
    "<b>Q3 (2 pts total)</b> \n",
    "    \n",
    "<br>\n",
    "Please write a piece of code to count the <b>number of vowels</b> (save to <code>n_vow</code>) and the <b>number of consonants</b> (save to <code>n_con</code>) in a given string <code>course = 'Welcome to DATA 765 Python Fundamentals for Data Science'</code>. \n",
    "<br>  \n",
    "<br>\n",
    "Hint 1: Python is case sensitive, such that <code>a != A</code> <br>\n",
    "Hint 2: be careful with <b>whitespaces</b> and <b>digits</b>. They are neither vowels nor consonants. <br>\n",
    "Hint 3: To deal with a string of digits (rather than numeric digits, i.e. int or float), you can use a built-in string method <code>.isdigit()</code>. This method works on strings and returns a <code> True </code> if the string is digits. Otherwise it returns a <code> False </code>. For example: <br>\n",
    "    <br>\n",
    "</div>\n",
    "\n",
    "```python\n",
    "'123'.isdigit()           ## returns a True\n",
    "\n",
    "'python'.isdigit()        ## returns a False\n",
    "\n",
    "## you can try them out in a code cell. \n",
    "```"
   ]
  },
  {
   "cell_type": "code",
   "execution_count": 15,
   "metadata": {},
   "outputs": [],
   "source": [
    "course = 'Welcome to DATA 765 Python Fundamentals for Data Science'\n",
    "\n",
    "vows = ['a', 'e', 'i', 'o', 'u']\n",
    "\n",
    "## Your code below:  (you can add more cells if needed)\n",
    "\n",
    "n_vow = 0\n",
    "n_con = 0\n",
    "\n",
    "for course in 'Welcome to DATA 765 Python Fundamentals for Data Science':\n",
    "        if course in vows:\n",
    "            n_vow += 1\n",
    "        elif course == ' ': \n",
    "            continue \n",
    "    \n",
    "        else:   \n",
    "            n_con += 1\n",
    "\n",
    "\n",
    "\n",
    "\n",
    "\n",
    "\n",
    "\n",
    "\n",
    "\n",
    "\n",
    "\n",
    "\n",
    "\n"
   ]
  },
  {
   "cell_type": "code",
   "execution_count": 16,
   "metadata": {},
   "outputs": [
    {
     "name": "stdout",
     "output_type": "stream",
     "text": [
      "The number of vowels in the string is:  15\n",
      "The number of consonants in the string is:  33\n"
     ]
    }
   ],
   "source": [
    "## run this cell when you complete Q3\n",
    "\n",
    "print('The number of vowels in the string is: ', n_vow)\n",
    "print('The number of consonants in the string is: ', n_con)"
   ]
  },
  {
   "cell_type": "code",
   "execution_count": null,
   "metadata": {},
   "outputs": [],
   "source": []
  }
 ],
 "metadata": {
  "kernelspec": {
   "display_name": "Python 3",
   "language": "python",
   "name": "python3"
  },
  "language_info": {
   "codemirror_mode": {
    "name": "ipython",
    "version": 3
   },
   "file_extension": ".py",
   "mimetype": "text/x-python",
   "name": "python",
   "nbconvert_exporter": "python",
   "pygments_lexer": "ipython3",
   "version": "3.8.5"
  }
 },
 "nbformat": 4,
 "nbformat_minor": 4
}
