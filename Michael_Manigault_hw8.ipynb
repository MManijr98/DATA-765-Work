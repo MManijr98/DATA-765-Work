{
 "cells": [
  {
   "cell_type": "markdown",
   "metadata": {},
   "source": [
    "# Data765 | Lecture 9 | Debugging\n",
    "## Assignment 8 (points: 5)\n",
    "### Due: April 14, Wednesday by midnight"
   ]
  },
  {
   "cell_type": "markdown",
   "metadata": {},
   "source": [
    "<div class=\"alert alert-block alert-success\">\n",
    "    \n",
    "<br>\n",
    "<b>Debugging Exercises</b>\n",
    "<br>\n",
    "    \n",
    "Please follow the demonstration during Lecture 9 to debug two Python programs. You need to:\n",
    "    \n",
    "1. debug the programs step by step like what we did in class, including but not limited to: carefully designing test cases, reading and understanding error messages (if any), making copies of the code, debugging with print statement or exception handling, making modifications, and finally present the correct solution that can pass all of the test cases. Note that you may need to go back and forth between different steps to test and debug the code.\n",
    "<br>\n",
    "<br>\n",
    "2. in a Markdown cell, briefly describe the process of debugging. Note that the description should include: how many and what are the bugs in the program (obvious v.s. hidden; persistent v.s. occasional)? How did you find them? How did you solve the problems? And why did you use the specific test cases (i.e. explain the logic of designing the test cases)?\n",
    "<br>\n",
    "<br>\n",
    "3. You are encouraged to use Google or other online resources (e.g. Stackoverflow, Python Tutor, etc.) to help you debug. But please acknowledge the use of online resources and provide the links, if any.\n",
    "<br>    \n",
    "</div>"
   ]
  },
  {
   "cell_type": "markdown",
   "metadata": {},
   "source": [
    "<div class=\"alert alert-block alert-success\">\n",
    "    \n",
    "<b>Q1 (2.5 pts)</b> \n",
    "\n",
    "Per the instructions above, please debug one of your own Python programs from the midterm or previous assignments (either coding problems or DataCamp coding assignments). \n",
    "<br>\n",
    "<br>\n",
    "Note that this program <b>must be a function that involves control flows</b> (loops and/or conditional branches).\n",
    "    \n",
    "</div>"
   ]
  },
  {
   "cell_type": "code",
   "execution_count": 32,
   "metadata": {},
   "outputs": [],
   "source": [
    "## Your own function here. Don't forget the docstring.\n",
    "\n",
    "def list_oper(x, y):\n",
    "##I tried running the code with the docstring included, but I kept getting an error message stating that total = [] wasn't supposed to be indented. \n",
    "    total = []\n",
    "    \n",
    "    if len(x) == 0 or len(y) == 0:\n",
    "        return'Either list cannot be empty.'\n",
    "    \n",
    "    else:\n",
    "        for i in x:\n",
    "            for j in y:\n",
    "                total.append(i**2 + j)\n",
    "            return total"
   ]
  },
  {
   "cell_type": "code",
   "execution_count": 34,
   "metadata": {},
   "outputs": [
    {
     "name": "stdout",
     "output_type": "stream",
     "text": [
      "[20, 16, 15]\n",
      "Either list cannot be empty.\n",
      "[242, 244, 241]\n"
     ]
    }
   ],
   "source": [
    "## you may add as many cells as you need\n",
    "##test cases. I just used random lists to test the code.\n",
    "print(list_oper([3, 4], [11, 7, 6]))\n",
    "print(list_oper([4, 2 , 22, 8], []))\n",
    "print(list_oper([15, 40, 11, 20], [17, 19, 16]))"
   ]
  },
  {
   "cell_type": "markdown",
   "metadata": {},
   "source": [
    "### Please make this cell a Markdown cell (in command mode, press \"m\"), and describe your process of debugging here:\n",
    "\n",
    "During the midterm, my orignal code was:\n",
    "\n",
    "def list_oper(x, y):\n",
    "\n",
    "\n",
    "    return[x**2+y for x,y in zip(x,y)]\n",
    "\n",
    "I forgot to include a docstring, an if else statement and a for loop due to being pressed for time. I also didn't account for the instance where the inputted lists weren't the same length. I tried emulating Professor Zhang's code from the Midterm answers. Similar to what she did, I created a variable to represent the total of both lists (total = []). The if else statement used here is for the instance where one of the lists or both lists are empty. The for loop is used to combine each of the lists used above, with total.append(i**2+j) used to actually combine both lists. \n",
    "\n",
    "\n"
   ]
  },
  {
   "cell_type": "markdown",
   "metadata": {},
   "source": [
    "<div class=\"alert alert-block alert-success\">\n",
    "    \n",
    "<b>Q2 (2.5 pts)</b> \n",
    "\n",
    "Per the instructions above, please debug the below Python function which takes three numbers as inputs and returns the largest number. \n",
    "<br>\n",
    "<br>\n",
    "Note that you can <b>safely assume that all inputs are numbers</b>, i.e. no need to check whether inputs are other data types.\n",
    "\n",
    "</div>"
   ]
  },
  {
   "cell_type": "code",
   "execution_count": 10,
   "metadata": {},
   "outputs": [],
   "source": [
    "\n",
    "\n",
    "def max_of_three(x, y, z):\n",
    "    '''\n",
    "    INPUT:\n",
    "    x, y, z: single numbers, int or float.\n",
    "    \n",
    "    OUTPUT:\n",
    "    the maximum of x, y, z. \n",
    "    '''\n",
    "    \n",
    "    if x > y:\n",
    "        larger = x\n",
    "    elif y > z:\n",
    "        larger = y \n",
    "    else:\n",
    "        larger = z\n",
    "    \n",
    "        return larger"
   ]
  },
  {
   "cell_type": "code",
   "execution_count": 11,
   "metadata": {},
   "outputs": [
    {
     "data": {
      "text/plain": [
       "5"
      ]
     },
     "execution_count": 11,
     "metadata": {},
     "output_type": "execute_result"
    }
   ],
   "source": [
    "## you may add as many cells as you need\n",
    "##test cases. I just used random numbers to test the code.\n",
    "max_of_three(3,4,5)\n",
    "max_of_three(49,69,420)\n",
    "max_of_three(6,9,13)\n",
    "    "
   ]
  },
  {
   "cell_type": "markdown",
   "metadata": {},
   "source": [
    "### Please make this cell a Markdown cell (in command mode, press \"m\"), and describe your process of debugging here:\n",
    "\n",
    "I first added a colon to the elif statement; that error itself was an obvious and occasional error due to it only occurring once. Then, I defined the user the user defined variable, max_of_three.\n",
    "\n",
    "\n",
    "\n"
   ]
  },
  {
   "cell_type": "code",
   "execution_count": null,
   "metadata": {},
   "outputs": [],
   "source": []
  }
 ],
 "metadata": {
  "kernelspec": {
   "display_name": "Python 3",
   "language": "python",
   "name": "python3"
  },
  "language_info": {
   "codemirror_mode": {
    "name": "ipython",
    "version": 3
   },
   "file_extension": ".py",
   "mimetype": "text/x-python",
   "name": "python",
   "nbconvert_exporter": "python",
   "pygments_lexer": "ipython3",
   "version": "3.8.5"
  }
 },
 "nbformat": 4,
 "nbformat_minor": 4
}
