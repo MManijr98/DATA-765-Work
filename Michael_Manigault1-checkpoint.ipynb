{
 "cells": [
  {
   "cell_type": "markdown",
   "metadata": {},
   "source": [
    "# Data765 | Lecture 4 | Control Flow (I)\n",
    "## Assignment 4.2 (points: 2)\n",
    "### Due: March 3, Wednesday by midnight"
   ]
  },
  {
   "cell_type": "markdown",
   "metadata": {},
   "source": [
    "<div class=\"alert alert-block alert-success\">\n",
    "    \n",
    "<b>Q1 (1 pts total; 0.1 pts each for Q2.0 - Q2.5; 0.4 pts for Q2.6.)</b> \n",
    "    \n",
    "<br>\n",
    "Please build a dictionary named <code>course</code>. It includes three key/value pairs. The keys are <code>\"course_name\", \"term\", \"course_number\"</code>. The values include <code>\"Python Fundamentals\", \"Spring 2021\", 790 </code>. <br>\n",
    "   <p style=\"margin-left: 30px\"> 0. Build the dictionary as instructed above. <br>\n",
    "    1. Change the <code>course_number</code> value from 790 to 765. <br>\n",
    "    2. Add the key/value pair <code>\"number_of_students\" : 17</code> to the dict. <br>\n",
    "    3. Get a list of the keys of the dict, save it to a variable <code>new_keys</code>.<br>\n",
    "    4. Check whether <code>765</code> is in <code>course</code>, save the test result to <code>ans1</code>. <br>\n",
    "    5. Check whether the string <code>'course'</code> is in the dict <code>course</code>, save the test result to <code>ans2</code>. <br>\n",
    "    6. How to understand ans1 and ans2? Please add a markdown cell below and write one sentence or two to briefly explain the answers.<br>\n",
    "</div>"
   ]
  },
  {
   "cell_type": "code",
   "execution_count": 17,
   "metadata": {},
   "outputs": [],
   "source": [
    "## Q1:\n",
    "## your code below:  (you can add more cells if needed)\n",
    "\n",
    "course = {'course_name':'Fundamentals', 'term':'Spring 2021', 'course_number': 790}\n",
    "course['course_number'] = 765\n",
    "\n",
    "course['number_of_students'] = 17\n",
    "\n",
    "new_keys = course.keys()\n",
    "\n",
    "ans1 = 765 in course.values()\n",
    "ans2 = 'course' in course\n",
    "\n",
    "\n",
    "\n"
   ]
  },
  {
   "cell_type": "code",
   "execution_count": 18,
   "metadata": {},
   "outputs": [
    {
     "name": "stdout",
     "output_type": "stream",
     "text": [
      "The modified dictionary is: \n",
      " {'course_name': 'Fundamentals', 'term': 'Spring 2021', 'course_number': 765, 'number_of_students': 17}\n",
      "The dictionary contains the following keys:  dict_keys(['course_name', 'term', 'course_number', 'number_of_students'])\n",
      "Is the word 'Python' in the dictionary? The answer is:  True\n",
      "Is the number 765 in the dictionary? The answer is:  False\n"
     ]
    }
   ],
   "source": [
    "## run this cell when you finish Q1\n",
    "\n",
    "print('The modified dictionary is: \\n', course)\n",
    "print('The dictionary contains the following keys: ', new_keys)\n",
    "print(\"Is the word 'Python' in the dictionary? The answer is: \", ans1) \n",
    "print(\"Is the number 765 in the dictionary? The answer is: \", ans2) \n",
    "\n",
    "## please add a markdown cell below to explain the difference between ans1 and ans2\n",
    "\n",
    "\n",
    "\n"
   ]
  },
  {
   "cell_type": "markdown",
   "metadata": {},
   "source": [
    "The difference between ans1 and ans2 is that ans1 is checking for membership in values whereas ans2 is checking for membership exclusively within the dictionary key."
   ]
  },
  {
   "cell_type": "markdown",
   "metadata": {},
   "source": [
    "<div class=\"alert alert-block alert-success\">\n",
    "    \n",
    "<b>Q2 (1 pts total)</b> \n",
    "    \n",
    "<br>\n",
    "Suppose you made a weekend plan shown as the decision tree below. Please write a <code>if...else...</code> statement to turn this decision tree into a Python program. The final decisions under different conditions should be printed out as a string, such as <code> 'Stay in' </code> or <code> 'Go to movies' </code>. <br>\n",
    "    \n",
    "<br>\n",
    "Hint: I initialized the three variables <code> work </code> (takes two possible values), <code> outlook </code> (takes three possible values), and <code> friend_busy </code> (takes two possible values) for you. I initialized the variables with random values, but your code should be able to deal with other possible values too.<br>\n",
    "    <br>\n",
    "    \n",
    "</div>"
   ]
  },
  {
   "cell_type": "markdown",
   "metadata": {},
   "source": [
    "<img src='https://static.commonlounge.com/fp/original/3gaQtwvzuLaAtx1HpaCG5Qgnl1520487539_kc' align = center width = 500>"
   ]
  },
  {
   "cell_type": "code",
   "execution_count": 10,
   "metadata": {},
   "outputs": [
    {
     "name": "stdout",
     "output_type": "stream",
     "text": [
      "No work.\n"
     ]
    }
   ],
   "source": [
    "work = False                  # or True\n",
    "outlook = 'Rainy'             # or 'Overcast', or 'Sunny'  (case-sensitive)\n",
    "friend_busy = False           # or False\n",
    "\n",
    "## Your code below:  (you can add more cells if needed)\n",
    "\n",
    "\n",
    "if work == False:\n",
    "    print('No work.')\n",
    "else:\n",
    "    print('Go to work.')\n",
    "\n",
    "\n",
    "\n"
   ]
  },
  {
   "cell_type": "code",
   "execution_count": 12,
   "metadata": {},
   "outputs": [
    {
     "name": "stdout",
     "output_type": "stream",
     "text": [
      "Stay In.\n"
     ]
    }
   ],
   "source": [
    "if outlook == 'Sunny':\n",
    "     print('Go to beach.')\n",
    "elif outlook == 'Overcast':\n",
    "     print('Go Running.')\n",
    "else:\n",
    "     print('Stay In.')"
   ]
  },
  {
   "cell_type": "code",
   "execution_count": 14,
   "metadata": {},
   "outputs": [
    {
     "name": "stdout",
     "output_type": "stream",
     "text": [
      "Go to movies.\n"
     ]
    }
   ],
   "source": [
    "if friend_busy == False:\n",
    "      print('Go to movies.')\n",
    "else:\n",
    "    print('Stay in')"
   ]
  },
  {
   "cell_type": "code",
   "execution_count": null,
   "metadata": {},
   "outputs": [],
   "source": []
  }
 ],
 "metadata": {
  "kernelspec": {
   "display_name": "Python 3",
   "language": "python",
   "name": "python3"
  },
  "language_info": {
   "codemirror_mode": {
    "name": "ipython",
    "version": 3
   },
   "file_extension": ".py",
   "mimetype": "text/x-python",
   "name": "python",
   "nbconvert_exporter": "python",
   "pygments_lexer": "ipython3",
   "version": "3.8.5"
  }
 },
 "nbformat": 4,
 "nbformat_minor": 4
}
