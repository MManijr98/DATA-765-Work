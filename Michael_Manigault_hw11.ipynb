{
 "cells": [
  {
   "cell_type": "code",
   "execution_count": 1,
   "metadata": {},
   "outputs": [],
   "source": [
    "import pandas as pd                \n",
    "import numpy as np "
   ]
  },
  {
   "cell_type": "code",
   "execution_count": 2,
   "metadata": {},
   "outputs": [],
   "source": [
    "path = 'https://raw.githubusercontent.com/UC-MACSS/persp-analysis/master/assignments/exploratory-data-analysis/data/gss2012.csv'\n",
    "\n",
    "df = pd.read_csv(path, header=0)"
   ]
  },
  {
   "cell_type": "code",
   "execution_count": 3,
   "metadata": {},
   "outputs": [
    {
     "data": {
      "text/html": [
       "<div>\n",
       "<style scoped>\n",
       "    .dataframe tbody tr th:only-of-type {\n",
       "        vertical-align: middle;\n",
       "    }\n",
       "\n",
       "    .dataframe tbody tr th {\n",
       "        vertical-align: top;\n",
       "    }\n",
       "\n",
       "    .dataframe thead th {\n",
       "        text-align: right;\n",
       "    }\n",
       "</style>\n",
       "<table border=\"1\" class=\"dataframe\">\n",
       "  <thead>\n",
       "    <tr style=\"text-align: right;\">\n",
       "      <th></th>\n",
       "      <th>year</th>\n",
       "      <th>id</th>\n",
       "      <th>wrkstat</th>\n",
       "      <th>wrkslf</th>\n",
       "      <th>wrkgvt</th>\n",
       "      <th>marital</th>\n",
       "      <th>sibs</th>\n",
       "      <th>childs</th>\n",
       "      <th>age</th>\n",
       "      <th>educ</th>\n",
       "      <th>...</th>\n",
       "      <th>south</th>\n",
       "      <th>divlaw2</th>\n",
       "      <th>age.f</th>\n",
       "      <th>mslm_spk.high</th>\n",
       "      <th>mslm_spk.yes</th>\n",
       "      <th>grass.legal</th>\n",
       "      <th>age2</th>\n",
       "      <th>relig2</th>\n",
       "      <th>dem</th>\n",
       "      <th>science_quiz.f</th>\n",
       "    </tr>\n",
       "  </thead>\n",
       "  <tbody>\n",
       "    <tr>\n",
       "      <th>0</th>\n",
       "      <td>2012</td>\n",
       "      <td>1.0</td>\n",
       "      <td>WORKING PART TIME</td>\n",
       "      <td>SOMEONE ELSE</td>\n",
       "      <td>PRIVATE</td>\n",
       "      <td>Never married</td>\n",
       "      <td>1.0</td>\n",
       "      <td>0.0</td>\n",
       "      <td>22.0</td>\n",
       "      <td>4 years</td>\n",
       "      <td>...</td>\n",
       "      <td>Nonsouth</td>\n",
       "      <td>More difficult</td>\n",
       "      <td>22.0</td>\n",
       "      <td>0.0</td>\n",
       "      <td>0.0</td>\n",
       "      <td>NaN</td>\n",
       "      <td>&lt;=30</td>\n",
       "      <td>Catholic</td>\n",
       "      <td>0.0</td>\n",
       "      <td>NaN</td>\n",
       "    </tr>\n",
       "    <tr>\n",
       "      <th>1</th>\n",
       "      <td>2012</td>\n",
       "      <td>2.0</td>\n",
       "      <td>WORKING PART TIME</td>\n",
       "      <td>SOMEONE ELSE</td>\n",
       "      <td>PRIVATE</td>\n",
       "      <td>Never married</td>\n",
       "      <td>2.0</td>\n",
       "      <td>0.0</td>\n",
       "      <td>21.0</td>\n",
       "      <td>12th grade</td>\n",
       "      <td>...</td>\n",
       "      <td>Nonsouth</td>\n",
       "      <td>NaN</td>\n",
       "      <td>21.0</td>\n",
       "      <td>0.0</td>\n",
       "      <td>0.0</td>\n",
       "      <td>100.0</td>\n",
       "      <td>&lt;=30</td>\n",
       "      <td>Catholic</td>\n",
       "      <td>0.0</td>\n",
       "      <td>7.0</td>\n",
       "    </tr>\n",
       "    <tr>\n",
       "      <th>2</th>\n",
       "      <td>2012</td>\n",
       "      <td>3.0</td>\n",
       "      <td>WORKING FULL TIME</td>\n",
       "      <td>SOMEONE ELSE</td>\n",
       "      <td>PRIVATE</td>\n",
       "      <td>Married</td>\n",
       "      <td>1.0</td>\n",
       "      <td>2.0</td>\n",
       "      <td>42.0</td>\n",
       "      <td>12th grade</td>\n",
       "      <td>...</td>\n",
       "      <td>Nonsouth</td>\n",
       "      <td>NaN</td>\n",
       "      <td>42.0</td>\n",
       "      <td>1.0</td>\n",
       "      <td>100.0</td>\n",
       "      <td>100.0</td>\n",
       "      <td>&gt;=31</td>\n",
       "      <td>Protestant</td>\n",
       "      <td>0.0</td>\n",
       "      <td>10.0</td>\n",
       "    </tr>\n",
       "    <tr>\n",
       "      <th>3</th>\n",
       "      <td>2012</td>\n",
       "      <td>4.0</td>\n",
       "      <td>NaN</td>\n",
       "      <td>SOMEONE ELSE</td>\n",
       "      <td>PRIVATE</td>\n",
       "      <td>Married</td>\n",
       "      <td>2.0</td>\n",
       "      <td>2.0</td>\n",
       "      <td>49.0</td>\n",
       "      <td>1 yr coll</td>\n",
       "      <td>...</td>\n",
       "      <td>Nonsouth</td>\n",
       "      <td>Same/easier</td>\n",
       "      <td>49.0</td>\n",
       "      <td>NaN</td>\n",
       "      <td>NaN</td>\n",
       "      <td>100.0</td>\n",
       "      <td>&gt;=31</td>\n",
       "      <td>Protestant</td>\n",
       "      <td>0.0</td>\n",
       "      <td>NaN</td>\n",
       "    </tr>\n",
       "    <tr>\n",
       "      <th>4</th>\n",
       "      <td>2012</td>\n",
       "      <td>5.0</td>\n",
       "      <td>RETIRED</td>\n",
       "      <td>SOMEONE ELSE</td>\n",
       "      <td>GOVERNMENT</td>\n",
       "      <td>Separated</td>\n",
       "      <td>0.0</td>\n",
       "      <td>3.0</td>\n",
       "      <td>70.0</td>\n",
       "      <td>4 years</td>\n",
       "      <td>...</td>\n",
       "      <td>Nonsouth</td>\n",
       "      <td>Same/easier</td>\n",
       "      <td>70.0</td>\n",
       "      <td>NaN</td>\n",
       "      <td>NaN</td>\n",
       "      <td>0.0</td>\n",
       "      <td>&gt;=31</td>\n",
       "      <td>Protestant</td>\n",
       "      <td>1.0</td>\n",
       "      <td>4.0</td>\n",
       "    </tr>\n",
       "  </tbody>\n",
       "</table>\n",
       "<p>5 rows × 221 columns</p>\n",
       "</div>"
      ],
      "text/plain": [
       "   year   id            wrkstat        wrkslf      wrkgvt        marital  \\\n",
       "0  2012  1.0  WORKING PART TIME  SOMEONE ELSE     PRIVATE  Never married   \n",
       "1  2012  2.0  WORKING PART TIME  SOMEONE ELSE     PRIVATE  Never married   \n",
       "2  2012  3.0  WORKING FULL TIME  SOMEONE ELSE     PRIVATE        Married   \n",
       "3  2012  4.0                NaN  SOMEONE ELSE     PRIVATE        Married   \n",
       "4  2012  5.0            RETIRED  SOMEONE ELSE  GOVERNMENT      Separated   \n",
       "\n",
       "   sibs  childs   age        educ  ...     south         divlaw2 age.f  \\\n",
       "0   1.0     0.0  22.0     4 years  ...  Nonsouth  More difficult  22.0   \n",
       "1   2.0     0.0  21.0  12th grade  ...  Nonsouth             NaN  21.0   \n",
       "2   1.0     2.0  42.0  12th grade  ...  Nonsouth             NaN  42.0   \n",
       "3   2.0     2.0  49.0   1 yr coll  ...  Nonsouth     Same/easier  49.0   \n",
       "4   0.0     3.0  70.0     4 years  ...  Nonsouth     Same/easier  70.0   \n",
       "\n",
       "  mslm_spk.high mslm_spk.yes grass.legal  age2      relig2  dem science_quiz.f  \n",
       "0           0.0          0.0         NaN  <=30    Catholic  0.0            NaN  \n",
       "1           0.0          0.0       100.0  <=30    Catholic  0.0            7.0  \n",
       "2           1.0        100.0       100.0  >=31  Protestant  0.0           10.0  \n",
       "3           NaN          NaN       100.0  >=31  Protestant  0.0            NaN  \n",
       "4           NaN          NaN         0.0  >=31  Protestant  1.0            4.0  \n",
       "\n",
       "[5 rows x 221 columns]"
      ]
     },
     "execution_count": 3,
     "metadata": {},
     "output_type": "execute_result"
    }
   ],
   "source": [
    "df.head()"
   ]
  },
  {
   "cell_type": "markdown",
   "metadata": {},
   "source": [
    "1. My research question is \"What is the relationship between one's level of education and one's income?\" The variables that I will be using are EDUC (level of education ranging from high diploma to Master's Degree) and INCOME06 (one's annual income).\n"
   ]
  },
  {
   "cell_type": "code",
   "execution_count": 4,
   "metadata": {},
   "outputs": [],
   "source": [
    "df1 = df[['income06', 'educ']]"
   ]
  },
  {
   "cell_type": "code",
   "execution_count": 5,
   "metadata": {},
   "outputs": [
    {
     "name": "stdout",
     "output_type": "stream",
     "text": [
      "<class 'pandas.core.frame.DataFrame'>\n",
      "RangeIndex: 1974 entries, 0 to 1973\n",
      "Data columns (total 2 columns):\n",
      " #   Column    Non-Null Count  Dtype \n",
      "---  ------    --------------  ----- \n",
      " 0   income06  1758 non-null   object\n",
      " 1   educ      1972 non-null   object\n",
      "dtypes: object(2)\n",
      "memory usage: 31.0+ KB\n"
     ]
    }
   ],
   "source": [
    "df1.info()"
   ]
  },
  {
   "cell_type": "code",
   "execution_count": 6,
   "metadata": {},
   "outputs": [
    {
     "data": {
      "text/plain": [
       "count    1969.000000\n",
       "mean       48.193499\n",
       "std        17.687113\n",
       "min        18.000000\n",
       "25%        33.000000\n",
       "50%        47.000000\n",
       "75%        61.000000\n",
       "max        89.000000\n",
       "Name: age, dtype: float64"
      ]
     },
     "execution_count": 6,
     "metadata": {},
     "output_type": "execute_result"
    }
   ],
   "source": [
    "df.age.describe()"
   ]
  },
  {
   "cell_type": "code",
   "execution_count": 7,
   "metadata": {},
   "outputs": [
    {
     "data": {
      "text/plain": [
       "count                1758\n",
       "unique                 25\n",
       "top       $60000 TO 74999\n",
       "freq                  153\n",
       "Name: income06, dtype: object"
      ]
     },
     "execution_count": 7,
     "metadata": {},
     "output_type": "execute_result"
    }
   ],
   "source": [
    "df.income06.describe()"
   ]
  },
  {
   "cell_type": "code",
   "execution_count": 8,
   "metadata": {},
   "outputs": [
    {
     "data": {
      "text/plain": [
       "age\n",
       "18.0    12\n",
       "19.0    20\n",
       "20.0    19\n",
       "21.0    31\n",
       "22.0    31\n",
       "        ..\n",
       "85.0     5\n",
       "86.0    10\n",
       "87.0    10\n",
       "88.0     7\n",
       "89.0    15\n",
       "Length: 72, dtype: int64"
      ]
     },
     "execution_count": 8,
     "metadata": {},
     "output_type": "execute_result"
    }
   ],
   "source": [
    "df.groupby('age').size()"
   ]
  },
  {
   "cell_type": "code",
   "execution_count": 9,
   "metadata": {},
   "outputs": [
    {
     "data": {
      "text/plain": [
       "income06\n",
       "$1 000 TO 2 999        25\n",
       "$10000 TO 12499        77\n",
       "$110000 TO $129999     68\n",
       "$12500 TO 14999        63\n",
       "$130000 TO $149999     45\n",
       "$15000 TO 17499        58\n",
       "$150000 OR OVER       144\n",
       "$17500 TO 19999        48\n",
       "$20000 TO 22499        66\n",
       "$22500 TO 24999        60\n",
       "$25000 TO 29999        93\n",
       "$3 000 TO 3 999        18\n",
       "$30000 TO 34999        89\n",
       "$35000 TO 39999       101\n",
       "$4 000 TO 4 999        10\n",
       "$40000 TO 49999       151\n",
       "$5 000 TO 5 999         8\n",
       "$50000 TO 59999       118\n",
       "$6 000 TO 6 999        22\n",
       "$60000 TO 74999       153\n",
       "$7 000 TO 7 999        24\n",
       "$75000 TO $89999      151\n",
       "$8 000 TO 9 999        38\n",
       "$90000 TO $109999     104\n",
       "UNDER $1 000           24\n",
       "dtype: int64"
      ]
     },
     "execution_count": 9,
     "metadata": {},
     "output_type": "execute_result"
    }
   ],
   "source": [
    "df.groupby('income06').size()"
   ]
  },
  {
   "cell_type": "markdown",
   "metadata": {},
   "source": [
    "2. Potential issues regarding the data by include missing data,wrong data types, etc. The missing data issue can be addressed by using pd.isna() in order to find what is missing from the dataset. Incorrect data types can be fixed by transforming one data into another (for example transforming int64 for object and vice versa)."
   ]
  },
  {
   "cell_type": "code",
   "execution_count": 40,
   "metadata": {},
   "outputs": [
    {
     "data": {
      "text/plain": [
       "Index(['year', 'id', 'wrkstat', 'wrkslf', 'wrkgvt', 'marital', 'sibs',\n",
       "       'childs', 'age', 'education_level',\n",
       "       ...\n",
       "       'south', 'divlaw2', 'age.f', 'mslm_spk.high', 'mslm_spk.yes',\n",
       "       'grass.legal', 'age2', 'relig2', 'dem', 'science_quiz.f'],\n",
       "      dtype='object', length=221)"
      ]
     },
     "execution_count": 40,
     "metadata": {},
     "output_type": "execute_result"
    }
   ],
   "source": [
    "df1 = df.rename(columns= {'income06':'income', 'educ':'education_level'})\n",
    "df1.columns"
   ]
  },
  {
   "cell_type": "code",
   "execution_count": 21,
   "metadata": {},
   "outputs": [
    {
     "data": {
      "text/plain": [
       "array(['$150000 OR OVER', '$110000 TO $129999', '$130000 TO $149999',\n",
       "       '$50000 TO 59999', '$25000 TO 29999', '$30000 TO 34999',\n",
       "       '$5 000 TO 5 999', 'UNDER $1 000', '$8 000 TO 9 999',\n",
       "       '$22500 TO 24999', nan, '$40000 TO 49999', '$60000 TO 74999',\n",
       "       '$90000 TO $109999', '$75000 TO $89999', '$35000 TO 39999',\n",
       "       '$15000 TO 17499', '$20000 TO 22499', '$6 000 TO 6 999',\n",
       "       '$17500 TO 19999', '$12500 TO 14999', '$10000 TO 12499',\n",
       "       '$1 000 TO 2 999', '$7 000 TO 7 999', '$4 000 TO 4 999',\n",
       "       '$3 000 TO 3 999'], dtype=object)"
      ]
     },
     "execution_count": 21,
     "metadata": {},
     "output_type": "execute_result"
    }
   ],
   "source": [
    "df1.income.unique()"
   ]
  },
  {
   "cell_type": "code",
   "execution_count": 27,
   "metadata": {},
   "outputs": [],
   "source": [
    "def Income(s):\n",
    "    \n",
    "    if s == 'UNDER $1 000':\n",
    "        a = 0\n",
    "        \n",
    "    elif s[0] == '$':\n",
    "        a = ''\n",
    "        for i in s[1:]:\n",
    "            if i.lower() < 'a':\n",
    "                a += i\n",
    "            else:\n",
    "                break\n",
    "        a = int(a.replace(' ', ''))\n",
    "        \n",
    "    else:\n",
    "        print('error')\n",
    "        print(s)\n",
    "    return a"
   ]
  },
  {
   "cell_type": "code",
   "execution_count": 50,
   "metadata": {},
   "outputs": [],
   "source": [
    "df1['inc1'] = df1.income.dropna().apply(Income)"
   ]
  },
  {
   "cell_type": "code",
   "execution_count": 51,
   "metadata": {},
   "outputs": [
    {
     "data": {
      "text/plain": [
       "array([150000., 110000., 130000.,  50000.,  25000.,  30000.,   5000.,\n",
       "            0.,   8000.,  22500.,     nan,  40000.,  60000.,  90000.,\n",
       "        75000.,  35000.,  15000.,  20000.,   6000.,  17500.,  12500.,\n",
       "        10000.,   1000.,   7000.,   4000.,   3000.])"
      ]
     },
     "execution_count": 51,
     "metadata": {},
     "output_type": "execute_result"
    }
   ],
   "source": [
    "df1.inc1.unique()"
   ]
  },
  {
   "cell_type": "code",
   "execution_count": 53,
   "metadata": {},
   "outputs": [
    {
     "data": {
      "text/html": [
       "<div>\n",
       "<style scoped>\n",
       "    .dataframe tbody tr th:only-of-type {\n",
       "        vertical-align: middle;\n",
       "    }\n",
       "\n",
       "    .dataframe tbody tr th {\n",
       "        vertical-align: top;\n",
       "    }\n",
       "\n",
       "    .dataframe thead th {\n",
       "        text-align: right;\n",
       "    }\n",
       "</style>\n",
       "<table border=\"1\" class=\"dataframe\">\n",
       "  <thead>\n",
       "    <tr style=\"text-align: right;\">\n",
       "      <th></th>\n",
       "      <th>income</th>\n",
       "      <th>inc1</th>\n",
       "    </tr>\n",
       "  </thead>\n",
       "  <tbody>\n",
       "    <tr>\n",
       "      <th>0</th>\n",
       "      <td>$150000 OR OVER</td>\n",
       "      <td>150000.0</td>\n",
       "    </tr>\n",
       "    <tr>\n",
       "      <th>1</th>\n",
       "      <td>$150000 OR OVER</td>\n",
       "      <td>150000.0</td>\n",
       "    </tr>\n",
       "    <tr>\n",
       "      <th>2</th>\n",
       "      <td>$110000 TO $129999</td>\n",
       "      <td>110000.0</td>\n",
       "    </tr>\n",
       "    <tr>\n",
       "      <th>3</th>\n",
       "      <td>$130000 TO $149999</td>\n",
       "      <td>130000.0</td>\n",
       "    </tr>\n",
       "    <tr>\n",
       "      <th>4</th>\n",
       "      <td>$50000 TO 59999</td>\n",
       "      <td>50000.0</td>\n",
       "    </tr>\n",
       "    <tr>\n",
       "      <th>5</th>\n",
       "      <td>$25000 TO 29999</td>\n",
       "      <td>25000.0</td>\n",
       "    </tr>\n",
       "    <tr>\n",
       "      <th>6</th>\n",
       "      <td>$30000 TO 34999</td>\n",
       "      <td>30000.0</td>\n",
       "    </tr>\n",
       "    <tr>\n",
       "      <th>7</th>\n",
       "      <td>$5 000 TO 5 999</td>\n",
       "      <td>5000.0</td>\n",
       "    </tr>\n",
       "    <tr>\n",
       "      <th>8</th>\n",
       "      <td>UNDER $1 000</td>\n",
       "      <td>0.0</td>\n",
       "    </tr>\n",
       "    <tr>\n",
       "      <th>9</th>\n",
       "      <td>$30000 TO 34999</td>\n",
       "      <td>30000.0</td>\n",
       "    </tr>\n",
       "    <tr>\n",
       "      <th>10</th>\n",
       "      <td>UNDER $1 000</td>\n",
       "      <td>0.0</td>\n",
       "    </tr>\n",
       "    <tr>\n",
       "      <th>11</th>\n",
       "      <td>$50000 TO 59999</td>\n",
       "      <td>50000.0</td>\n",
       "    </tr>\n",
       "    <tr>\n",
       "      <th>12</th>\n",
       "      <td>$8 000 TO 9 999</td>\n",
       "      <td>8000.0</td>\n",
       "    </tr>\n",
       "    <tr>\n",
       "      <th>13</th>\n",
       "      <td>$22500 TO 24999</td>\n",
       "      <td>22500.0</td>\n",
       "    </tr>\n",
       "    <tr>\n",
       "      <th>14</th>\n",
       "      <td>NaN</td>\n",
       "      <td>NaN</td>\n",
       "    </tr>\n",
       "    <tr>\n",
       "      <th>15</th>\n",
       "      <td>$50000 TO 59999</td>\n",
       "      <td>50000.0</td>\n",
       "    </tr>\n",
       "    <tr>\n",
       "      <th>16</th>\n",
       "      <td>$50000 TO 59999</td>\n",
       "      <td>50000.0</td>\n",
       "    </tr>\n",
       "    <tr>\n",
       "      <th>17</th>\n",
       "      <td>$40000 TO 49999</td>\n",
       "      <td>40000.0</td>\n",
       "    </tr>\n",
       "    <tr>\n",
       "      <th>18</th>\n",
       "      <td>$60000 TO 74999</td>\n",
       "      <td>60000.0</td>\n",
       "    </tr>\n",
       "    <tr>\n",
       "      <th>19</th>\n",
       "      <td>$22500 TO 24999</td>\n",
       "      <td>22500.0</td>\n",
       "    </tr>\n",
       "  </tbody>\n",
       "</table>\n",
       "</div>"
      ],
      "text/plain": [
       "                income      inc1\n",
       "0      $150000 OR OVER  150000.0\n",
       "1      $150000 OR OVER  150000.0\n",
       "2   $110000 TO $129999  110000.0\n",
       "3   $130000 TO $149999  130000.0\n",
       "4      $50000 TO 59999   50000.0\n",
       "5      $25000 TO 29999   25000.0\n",
       "6      $30000 TO 34999   30000.0\n",
       "7      $5 000 TO 5 999    5000.0\n",
       "8         UNDER $1 000       0.0\n",
       "9      $30000 TO 34999   30000.0\n",
       "10        UNDER $1 000       0.0\n",
       "11     $50000 TO 59999   50000.0\n",
       "12     $8 000 TO 9 999    8000.0\n",
       "13     $22500 TO 24999   22500.0\n",
       "14                 NaN       NaN\n",
       "15     $50000 TO 59999   50000.0\n",
       "16     $50000 TO 59999   50000.0\n",
       "17     $40000 TO 49999   40000.0\n",
       "18     $60000 TO 74999   60000.0\n",
       "19     $22500 TO 24999   22500.0"
      ]
     },
     "execution_count": 53,
     "metadata": {},
     "output_type": "execute_result"
    }
   ],
   "source": [
    "df1[['income', 'inc1']].head(20)"
   ]
  },
  {
   "cell_type": "code",
   "execution_count": 16,
   "metadata": {},
   "outputs": [
    {
     "data": {
      "text/plain": [
       "array(['4 years', '12th grade', '1 yr coll', '7 years', '3 years',\n",
       "       '11th grade', '9th grade', '5 years', '10th grade', '4th grade',\n",
       "       'None', '2 years', '6 years', '8 years', '8th grade', '6th grade',\n",
       "       '5th grade', '7th grade', nan, '3rd grade', '1st grade',\n",
       "       '2nd grade'], dtype=object)"
      ]
     },
     "execution_count": 16,
     "metadata": {},
     "output_type": "execute_result"
    }
   ],
   "source": [
    "df.educ.unique()"
   ]
  },
  {
   "cell_type": "code",
   "execution_count": 85,
   "metadata": {},
   "outputs": [],
   "source": [
    "edu_type = ['8 years',\n",
    "            '7 years',\n",
    "            '6 years',\n",
    "            '5 years',\n",
    "            '4 years',\n",
    "            '3 years',\n",
    "            '2 years',\n",
    "            '1 yr coll',\n",
    "            '12th grade',\n",
    "            '11th grade',\n",
    "            '10th grade',\n",
    "            '9th grade',\n",
    "            '8th grade',\n",
    "            '7th grade',\n",
    "            '6th grade',\n",
    "            '5th grade',\n",
    "            '4th grade',\n",
    "            '3rd grade',\n",
    "            '2nd grade',\n",
    "            '1st grade',\n",
    "            'None']"
   ]
  },
  {
   "cell_type": "code",
   "execution_count": 86,
   "metadata": {},
   "outputs": [],
   "source": [
    "d2 = {key: len(edu_type)-i-1 for i, key in enumerate(edu_type)}"
   ]
  },
  {
   "cell_type": "code",
   "execution_count": 87,
   "metadata": {},
   "outputs": [
    {
     "data": {
      "text/plain": [
       "{'8 years': 20,\n",
       " '7 years': 19,\n",
       " '6 years': 18,\n",
       " '5 years': 17,\n",
       " '4 years': 16,\n",
       " '3 years': 15,\n",
       " '2 years': 14,\n",
       " '1 yr coll': 13,\n",
       " '12th grade': 12,\n",
       " '11th grade': 11,\n",
       " '10th grade': 10,\n",
       " '9th grade': 9,\n",
       " '8th grade': 8,\n",
       " '7th grade': 7,\n",
       " '6th grade': 6,\n",
       " '5th grade': 5,\n",
       " '4th grade': 4,\n",
       " '3rd grade': 3,\n",
       " '2nd grade': 2,\n",
       " '1st grade': 1,\n",
       " 'None': 0}"
      ]
     },
     "execution_count": 87,
     "metadata": {},
     "output_type": "execute_result"
    }
   ],
   "source": [
    "d2"
   ]
  },
  {
   "cell_type": "code",
   "execution_count": 88,
   "metadata": {},
   "outputs": [],
   "source": [
    "df1['education_level2'] = df1.education_level.map(d2)"
   ]
  },
  {
   "cell_type": "code",
   "execution_count": 89,
   "metadata": {},
   "outputs": [
    {
     "data": {
      "text/html": [
       "<div>\n",
       "<style scoped>\n",
       "    .dataframe tbody tr th:only-of-type {\n",
       "        vertical-align: middle;\n",
       "    }\n",
       "\n",
       "    .dataframe tbody tr th {\n",
       "        vertical-align: top;\n",
       "    }\n",
       "\n",
       "    .dataframe thead th {\n",
       "        text-align: right;\n",
       "    }\n",
       "</style>\n",
       "<table border=\"1\" class=\"dataframe\">\n",
       "  <thead>\n",
       "    <tr style=\"text-align: right;\">\n",
       "      <th></th>\n",
       "      <th>education_level</th>\n",
       "      <th>education_level2</th>\n",
       "    </tr>\n",
       "  </thead>\n",
       "  <tbody>\n",
       "    <tr>\n",
       "      <th>0</th>\n",
       "      <td>4 years</td>\n",
       "      <td>16.0</td>\n",
       "    </tr>\n",
       "    <tr>\n",
       "      <th>1</th>\n",
       "      <td>12th grade</td>\n",
       "      <td>12.0</td>\n",
       "    </tr>\n",
       "    <tr>\n",
       "      <th>2</th>\n",
       "      <td>12th grade</td>\n",
       "      <td>12.0</td>\n",
       "    </tr>\n",
       "    <tr>\n",
       "      <th>3</th>\n",
       "      <td>1 yr coll</td>\n",
       "      <td>13.0</td>\n",
       "    </tr>\n",
       "    <tr>\n",
       "      <th>4</th>\n",
       "      <td>4 years</td>\n",
       "      <td>16.0</td>\n",
       "    </tr>\n",
       "    <tr>\n",
       "      <th>5</th>\n",
       "      <td>7 years</td>\n",
       "      <td>19.0</td>\n",
       "    </tr>\n",
       "    <tr>\n",
       "      <th>6</th>\n",
       "      <td>3 years</td>\n",
       "      <td>15.0</td>\n",
       "    </tr>\n",
       "    <tr>\n",
       "      <th>7</th>\n",
       "      <td>11th grade</td>\n",
       "      <td>11.0</td>\n",
       "    </tr>\n",
       "    <tr>\n",
       "      <th>8</th>\n",
       "      <td>9th grade</td>\n",
       "      <td>9.0</td>\n",
       "    </tr>\n",
       "    <tr>\n",
       "      <th>9</th>\n",
       "      <td>5 years</td>\n",
       "      <td>17.0</td>\n",
       "    </tr>\n",
       "    <tr>\n",
       "      <th>10</th>\n",
       "      <td>10th grade</td>\n",
       "      <td>10.0</td>\n",
       "    </tr>\n",
       "    <tr>\n",
       "      <th>11</th>\n",
       "      <td>4 years</td>\n",
       "      <td>16.0</td>\n",
       "    </tr>\n",
       "    <tr>\n",
       "      <th>12</th>\n",
       "      <td>12th grade</td>\n",
       "      <td>12.0</td>\n",
       "    </tr>\n",
       "    <tr>\n",
       "      <th>13</th>\n",
       "      <td>12th grade</td>\n",
       "      <td>12.0</td>\n",
       "    </tr>\n",
       "    <tr>\n",
       "      <th>14</th>\n",
       "      <td>4th grade</td>\n",
       "      <td>4.0</td>\n",
       "    </tr>\n",
       "    <tr>\n",
       "      <th>15</th>\n",
       "      <td>1 yr coll</td>\n",
       "      <td>13.0</td>\n",
       "    </tr>\n",
       "    <tr>\n",
       "      <th>16</th>\n",
       "      <td>12th grade</td>\n",
       "      <td>12.0</td>\n",
       "    </tr>\n",
       "  </tbody>\n",
       "</table>\n",
       "</div>"
      ],
      "text/plain": [
       "   education_level  education_level2\n",
       "0          4 years              16.0\n",
       "1       12th grade              12.0\n",
       "2       12th grade              12.0\n",
       "3        1 yr coll              13.0\n",
       "4          4 years              16.0\n",
       "5          7 years              19.0\n",
       "6          3 years              15.0\n",
       "7       11th grade              11.0\n",
       "8        9th grade               9.0\n",
       "9          5 years              17.0\n",
       "10      10th grade              10.0\n",
       "11         4 years              16.0\n",
       "12      12th grade              12.0\n",
       "13      12th grade              12.0\n",
       "14       4th grade               4.0\n",
       "15       1 yr coll              13.0\n",
       "16      12th grade              12.0"
      ]
     },
     "execution_count": 89,
     "metadata": {},
     "output_type": "execute_result"
    }
   ],
   "source": [
    "df1[['education_level','education_level2']].head(17)"
   ]
  },
  {
   "cell_type": "code",
   "execution_count": 97,
   "metadata": {},
   "outputs": [],
   "source": [
    "def Degree(x):\n",
    "    if x >=0:\n",
    "        if x <= 12:\n",
    "            return 'High School And Below'\n",
    "        elif (x>12) & (x<17):\n",
    "            return 'Some College'\n",
    "        elif x >= 17:\n",
    "            return 'College and Beyond'\n",
    "        else:\n",
    "            return np.nan"
   ]
  },
  {
   "cell_type": "code",
   "execution_count": 98,
   "metadata": {},
   "outputs": [],
   "source": [
    "df1['degree'] = df1.education_level2.apply(Degree)"
   ]
  },
  {
   "cell_type": "code",
   "execution_count": 99,
   "metadata": {},
   "outputs": [
    {
     "data": {
      "text/html": [
       "<div>\n",
       "<style scoped>\n",
       "    .dataframe tbody tr th:only-of-type {\n",
       "        vertical-align: middle;\n",
       "    }\n",
       "\n",
       "    .dataframe tbody tr th {\n",
       "        vertical-align: top;\n",
       "    }\n",
       "\n",
       "    .dataframe thead th {\n",
       "        text-align: right;\n",
       "    }\n",
       "</style>\n",
       "<table border=\"1\" class=\"dataframe\">\n",
       "  <thead>\n",
       "    <tr style=\"text-align: right;\">\n",
       "      <th></th>\n",
       "      <th>education_level</th>\n",
       "      <th>education_level2</th>\n",
       "      <th>degree</th>\n",
       "    </tr>\n",
       "  </thead>\n",
       "  <tbody>\n",
       "    <tr>\n",
       "      <th>0</th>\n",
       "      <td>4 years</td>\n",
       "      <td>16.0</td>\n",
       "      <td>Some College</td>\n",
       "    </tr>\n",
       "    <tr>\n",
       "      <th>1</th>\n",
       "      <td>12th grade</td>\n",
       "      <td>12.0</td>\n",
       "      <td>High School And Below</td>\n",
       "    </tr>\n",
       "    <tr>\n",
       "      <th>2</th>\n",
       "      <td>12th grade</td>\n",
       "      <td>12.0</td>\n",
       "      <td>High School And Below</td>\n",
       "    </tr>\n",
       "    <tr>\n",
       "      <th>3</th>\n",
       "      <td>1 yr coll</td>\n",
       "      <td>13.0</td>\n",
       "      <td>Some College</td>\n",
       "    </tr>\n",
       "    <tr>\n",
       "      <th>4</th>\n",
       "      <td>4 years</td>\n",
       "      <td>16.0</td>\n",
       "      <td>Some College</td>\n",
       "    </tr>\n",
       "    <tr>\n",
       "      <th>...</th>\n",
       "      <td>...</td>\n",
       "      <td>...</td>\n",
       "      <td>...</td>\n",
       "    </tr>\n",
       "    <tr>\n",
       "      <th>1969</th>\n",
       "      <td>4 years</td>\n",
       "      <td>16.0</td>\n",
       "      <td>Some College</td>\n",
       "    </tr>\n",
       "    <tr>\n",
       "      <th>1970</th>\n",
       "      <td>1 yr coll</td>\n",
       "      <td>13.0</td>\n",
       "      <td>Some College</td>\n",
       "    </tr>\n",
       "    <tr>\n",
       "      <th>1971</th>\n",
       "      <td>1 yr coll</td>\n",
       "      <td>13.0</td>\n",
       "      <td>Some College</td>\n",
       "    </tr>\n",
       "    <tr>\n",
       "      <th>1972</th>\n",
       "      <td>12th grade</td>\n",
       "      <td>12.0</td>\n",
       "      <td>High School And Below</td>\n",
       "    </tr>\n",
       "    <tr>\n",
       "      <th>1973</th>\n",
       "      <td>12th grade</td>\n",
       "      <td>12.0</td>\n",
       "      <td>High School And Below</td>\n",
       "    </tr>\n",
       "  </tbody>\n",
       "</table>\n",
       "<p>1974 rows × 3 columns</p>\n",
       "</div>"
      ],
      "text/plain": [
       "     education_level  education_level2                 degree\n",
       "0            4 years              16.0           Some College\n",
       "1         12th grade              12.0  High School And Below\n",
       "2         12th grade              12.0  High School And Below\n",
       "3          1 yr coll              13.0           Some College\n",
       "4            4 years              16.0           Some College\n",
       "...              ...               ...                    ...\n",
       "1969         4 years              16.0           Some College\n",
       "1970       1 yr coll              13.0           Some College\n",
       "1971       1 yr coll              13.0           Some College\n",
       "1972      12th grade              12.0  High School And Below\n",
       "1973      12th grade              12.0  High School And Below\n",
       "\n",
       "[1974 rows x 3 columns]"
      ]
     },
     "execution_count": 99,
     "metadata": {},
     "output_type": "execute_result"
    }
   ],
   "source": [
    "df1[['education_level','education_level2','degree']]"
   ]
  },
  {
   "cell_type": "markdown",
   "metadata": {},
   "source": [
    "3. The analysis that will be conducted will be finding the relationship between one's level of education and one's annual income. An assumption that can be made is that if one's level of education is college and beyond, their yearly income would be higher than those whose education level is high school and below. As a result, a positive relationship will form between level of education and income."
   ]
  },
  {
   "cell_type": "code",
   "execution_count": null,
   "metadata": {},
   "outputs": [],
   "source": []
  },
  {
   "cell_type": "code",
   "execution_count": null,
   "metadata": {},
   "outputs": [],
   "source": []
  }
 ],
 "metadata": {
  "kernelspec": {
   "display_name": "Python 3",
   "language": "python",
   "name": "python3"
  },
  "language_info": {
   "codemirror_mode": {
    "name": "ipython",
    "version": 3
   },
   "file_extension": ".py",
   "mimetype": "text/x-python",
   "name": "python",
   "nbconvert_exporter": "python",
   "pygments_lexer": "ipython3",
   "version": "3.8.5"
  }
 },
 "nbformat": 4,
 "nbformat_minor": 4
}
